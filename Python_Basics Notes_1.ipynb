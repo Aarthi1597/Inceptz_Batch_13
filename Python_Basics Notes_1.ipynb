{
 "cells": [
  {
   "cell_type": "code",
   "execution_count": 2,
   "metadata": {},
   "outputs": [
    {
     "data": {
      "text/plain": [
       "'C:\\\\Users\\\\kasir\\\\anaconda3'"
      ]
     },
     "execution_count": 2,
     "metadata": {},
     "output_type": "execute_result"
    }
   ],
   "source": [
    "#present working directory\n",
    "pwd"
   ]
  },
  {
   "cell_type": "code",
   "execution_count": 3,
   "metadata": {},
   "outputs": [
    {
     "data": {
      "text/plain": [
       "['False',\n",
       " 'None',\n",
       " 'True',\n",
       " 'and',\n",
       " 'as',\n",
       " 'assert',\n",
       " 'async',\n",
       " 'await',\n",
       " 'break',\n",
       " 'class',\n",
       " 'continue',\n",
       " 'def',\n",
       " 'del',\n",
       " 'elif',\n",
       " 'else',\n",
       " 'except',\n",
       " 'finally',\n",
       " 'for',\n",
       " 'from',\n",
       " 'global',\n",
       " 'if',\n",
       " 'import',\n",
       " 'in',\n",
       " 'is',\n",
       " 'lambda',\n",
       " 'nonlocal',\n",
       " 'not',\n",
       " 'or',\n",
       " 'pass',\n",
       " 'raise',\n",
       " 'return',\n",
       " 'try',\n",
       " 'while',\n",
       " 'with',\n",
       " 'yield']"
      ]
     },
     "execution_count": 3,
     "metadata": {},
     "output_type": "execute_result"
    }
   ],
   "source": [
    "#Imports all the keywords present  \n",
    "import keyword\n",
    "keyword.kwlist"
   ]
  },
  {
   "cell_type": "code",
   "execution_count": 4,
   "metadata": {},
   "outputs": [
    {
     "name": "stdout",
     "output_type": "stream",
     "text": [
      "Hello World !!\n"
     ]
    }
   ],
   "source": [
    "#print statement\n",
    "print(\"Hello World !!\")"
   ]
  },
  {
   "cell_type": "code",
   "execution_count": 5,
   "metadata": {},
   "outputs": [
    {
     "data": {
      "text/plain": [
       "True"
      ]
     },
     "execution_count": 5,
     "metadata": {},
     "output_type": "execute_result"
    }
   ],
   "source": [
    "# checks whether a word(variable) is keyword or not\n",
    "\n",
    "keyword.iskeyword(\"try\")"
   ]
  },
  {
   "cell_type": "code",
   "execution_count": 6,
   "metadata": {},
   "outputs": [
    {
     "name": "stdout",
     "output_type": "stream",
     "text": [
      "<class 'int'>\n",
      "<class 'float'>\n",
      "<class 'str'>\n",
      "<class 'bool'>\n"
     ]
    }
   ],
   "source": [
    "#int data type\n",
    "a=10\n",
    "#float data type\n",
    "b=15.2\n",
    "#string data type\n",
    "c=\"Inceptz\"\n",
    "#boolean data type\n",
    "d=False\n",
    "\n",
    "#Prints the data type of the variable\n",
    "\n",
    "print(type(a))\n",
    "print(type(b))\n",
    "print(type(c))\n",
    "print(type(d))"
   ]
  },
  {
   "cell_type": "raw",
   "metadata": {},
   "source": [
    "# Identifiers - User defined names to any variable, function, class or module inside the notebook\n",
    "# Variables to understand identifiers - memory holders or entities whose value will change during the program execution\n",
    "   # Identifier Rules\n",
    "      # cannot be keywords\n",
    "      # cannot start with numbers\n",
    "      # No space inbetween\n",
    "      # No special character like !,@,#,$,% \n",
    "      # It should be with range a-z and A-Z\n",
    "      # It is case sensitive"
   ]
  },
  {
   "cell_type": "markdown",
   "metadata": {},
   "source": [
    "# 1. List "
   ]
  },
  {
   "cell_type": "raw",
   "metadata": {},
   "source": [
    "# Allows heterogeneous data types\n",
    "# index starts from 0\n",
    "# mutable using index\n",
    "# uses [] brackets"
   ]
  },
  {
   "cell_type": "code",
   "execution_count": 7,
   "metadata": {},
   "outputs": [],
   "source": [
    "sample_list= [10,20.4,3+4j,\"Inceptz\"]"
   ]
  },
  {
   "cell_type": "code",
   "execution_count": 8,
   "metadata": {},
   "outputs": [
    {
     "name": "stdout",
     "output_type": "stream",
     "text": [
      "[10, 20.4, (3+4j), 'Inceptz']\n"
     ]
    }
   ],
   "source": [
    "# prints the list \n",
    "print (sample_list)"
   ]
  },
  {
   "cell_type": "code",
   "execution_count": 9,
   "metadata": {},
   "outputs": [
    {
     "name": "stdout",
     "output_type": "stream",
     "text": [
      "1\n"
     ]
    }
   ],
   "source": [
    "#differnt types assignments \n",
    "a=b=c= 10\n",
    "a,b,c = \"Aarthi\",\"Inceptz\",1\n",
    "print (c)\n",
    "#if there are moreone values declared to the same variable, then the last value is assigned to the variable."
   ]
  },
  {
   "cell_type": "code",
   "execution_count": 10,
   "metadata": {},
   "outputs": [
    {
     "name": "stdout",
     "output_type": "stream",
     "text": [
      "[20, 30, 40, 45, 50]\n"
     ]
    }
   ],
   "source": [
    "sample_eg = [20,30,40,45,50]\n",
    "print(sample_eg)"
   ]
  },
  {
   "cell_type": "code",
   "execution_count": 11,
   "metadata": {},
   "outputs": [],
   "source": [
    "sample_eg[2] = 35\n",
    "#3rd value in the list is changed using the particular index value."
   ]
  },
  {
   "cell_type": "code",
   "execution_count": 12,
   "metadata": {},
   "outputs": [
    {
     "name": "stdout",
     "output_type": "stream",
     "text": [
      "[20, 30, 35, 45, 50]\n"
     ]
    }
   ],
   "source": [
    "print(sample_eg)"
   ]
  },
  {
   "cell_type": "code",
   "execution_count": 9,
   "metadata": {},
   "outputs": [],
   "source": [
    "#different types of functions available \n",
    "# type list_name. + tab (can be replaced with anyother objects also)\n",
    "sample_eg.sort(reverse=True)\n",
    "# sorts the values in the list in descending order\n"
   ]
  },
  {
   "cell_type": "code",
   "execution_count": 13,
   "metadata": {},
   "outputs": [
    {
     "name": "stdout",
     "output_type": "stream",
     "text": [
      "[20, 30, 35, 45, 50]\n"
     ]
    }
   ],
   "source": [
    "print(sample_eg)"
   ]
  },
  {
   "cell_type": "code",
   "execution_count": 14,
   "metadata": {},
   "outputs": [],
   "source": [
    "sample_list= [10,20,10,25,28,33,10,40]\n",
    "#to add an element to the existing list,find the length of the list , then append the new element at that position.\n",
    "len(sample_list)\n",
    "sample_list.append(50)"
   ]
  },
  {
   "cell_type": "code",
   "execution_count": 15,
   "metadata": {},
   "outputs": [
    {
     "name": "stdout",
     "output_type": "stream",
     "text": [
      "[10, 20, 10, 25, 28, 33, 10, 40, 50]\n"
     ]
    }
   ],
   "source": [
    "print(sample_list)"
   ]
  },
  {
   "cell_type": "code",
   "execution_count": 16,
   "metadata": {},
   "outputs": [],
   "source": [
    "#to insert an element inbetween in the list,\n",
    "sample_list.insert(2,15)"
   ]
  },
  {
   "cell_type": "code",
   "execution_count": 17,
   "metadata": {},
   "outputs": [
    {
     "name": "stdout",
     "output_type": "stream",
     "text": [
      "[10, 20, 15, 10, 25, 28, 33, 10, 40, 50]\n"
     ]
    }
   ],
   "source": [
    "print(sample_list)"
   ]
  },
  {
   "cell_type": "code",
   "execution_count": 2,
   "metadata": {},
   "outputs": [
    {
     "name": "stdout",
     "output_type": "stream",
     "text": [
      "[10, 20, 10, 25, 28, 33, 10, 40]\n",
      "[10, 20, 10, 25, 28, 33, 10, 40]\n"
     ]
    }
   ],
   "source": [
    "sample_list= [10,20,10,25,28,33,10,40]\n",
    "list1= sample_list\n",
    "print(list1)\n",
    "print(sample_list)"
   ]
  },
  {
   "cell_type": "code",
   "execution_count": 3,
   "metadata": {},
   "outputs": [
    {
     "name": "stdout",
     "output_type": "stream",
     "text": [
      "[2, 3, 4, 5]\n",
      "[3, 4, 5, 6, 7, 8]\n",
      "[1, 2, 3, 4]\n",
      "[2, 3, 4, 5]\n",
      "[1, 2, 3, 4, 5, 6]\n"
     ]
    }
   ],
   "source": [
    "list1=[1,2,3,4,5,6,7,8]\n",
    "list2= list1[1:5]\n",
    "print(list2)\n",
    "\n",
    "print (list1[2:]) #prints from 2nd index elements till the end\n",
    "print (list1[:4]) # print all elements from start till before 4th index value\n",
    "print (list1[1:-3]) # print from 1st index to 3rd last eleent in the list(-3 is negative indexing)\n",
    "print (list1[:-2]) # prints all elements in the list till before 2nd last element"
   ]
  },
  {
   "cell_type": "code",
   "execution_count": 4,
   "metadata": {},
   "outputs": [
    {
     "name": "stdout",
     "output_type": "stream",
     "text": [
      "[1, 2, 3, 4, 5, 6, 7]\n"
     ]
    }
   ],
   "source": [
    "list1.pop() # removes only the last element in the list.\n",
    "print(list1)"
   ]
  },
  {
   "cell_type": "code",
   "execution_count": 5,
   "metadata": {},
   "outputs": [
    {
     "name": "stdout",
     "output_type": "stream",
     "text": [
      "[2, 3, 4, 5, 6, 7]\n"
     ]
    }
   ],
   "source": [
    "list1.remove(1) #removes the first occurence of the element in the list\n",
    "print (list1)"
   ]
  },
  {
   "cell_type": "code",
   "execution_count": 6,
   "metadata": {},
   "outputs": [
    {
     "data": {
      "text/plain": [
       "tuple"
      ]
     },
     "execution_count": 6,
     "metadata": {},
     "output_type": "execute_result"
    }
   ],
   "source": [
    "#Tuple\n",
    "\"\"\"\n",
    "1. Allows Heterogenous\n",
    "2. Retrive using index\n",
    "3. Cannot change the data once declared - immutable\n",
    "4. ()\n",
    "\"\"\"\n",
    "eg1=(1,2,3,4,\"Aarthi\")\n",
    "type(eg1)"
   ]
  },
  {
   "cell_type": "code",
   "execution_count": 7,
   "metadata": {},
   "outputs": [
    {
     "name": "stdout",
     "output_type": "stream",
     "text": [
      "(1, 2, 3, 4, 'Aarthi')\n",
      "Aarthi\n"
     ]
    }
   ],
   "source": [
    "print (eg1)\n",
    "print (eg1[4])"
   ]
  },
  {
   "cell_type": "code",
   "execution_count": null,
   "metadata": {},
   "outputs": [],
   "source": [
    "#In tuple only 2 funcs count and index are available. \n",
    "#Cannot append or extend or del tuple"
   ]
  },
  {
   "cell_type": "markdown",
   "metadata": {},
   "source": [
    "# 3.Set"
   ]
  },
  {
   "cell_type": "code",
   "execution_count": 8,
   "metadata": {},
   "outputs": [
    {
     "data": {
      "text/plain": [
       "set"
      ]
     },
     "execution_count": 8,
     "metadata": {},
     "output_type": "execute_result"
    }
   ],
   "source": [
    " #Set \n",
    "\"\"\" Immutable ,No duplicates ,Sometimes Ordered Heterogeneous \n",
    "     multi type acceptable, cannot access using index\n",
    "     \"\"\" \n",
    "set1= {1,2,3,4,5,\"Aarthi\",\"a\"}\n",
    "type(set1)"
   ]
  },
  {
   "cell_type": "code",
   "execution_count": 9,
   "metadata": {},
   "outputs": [
    {
     "name": "stdout",
     "output_type": "stream",
     "text": [
      "{1, 2, 3, 4, 5, 'a', 'Aarthi'}\n"
     ]
    }
   ],
   "source": [
    "print(set1)"
   ]
  },
  {
   "cell_type": "markdown",
   "metadata": {},
   "source": [
    "# 4.Dictionary"
   ]
  },
  {
   "cell_type": "code",
   "execution_count": 10,
   "metadata": {},
   "outputs": [
    {
     "name": "stdout",
     "output_type": "stream",
     "text": [
      "{1: 'first', 2: 'second', 3: 'third'}\n"
     ]
    }
   ],
   "source": [
    "\"\"\" Key value pairs \n",
    "    Key is unique and \n",
    "    value can be duplicated retrieve using key \n",
    "    \"\"\"\n",
    "dict1={1:'first',2:'second',3:'third'}\n",
    "print(dict1)"
   ]
  },
  {
   "cell_type": "markdown",
   "metadata": {},
   "source": [
    "# 5.String"
   ]
  },
  {
   "cell_type": "code",
   "execution_count": 12,
   "metadata": {},
   "outputs": [
    {
     "name": "stdout",
     "output_type": "stream",
     "text": [
      "test is a test\n"
     ]
    }
   ],
   "source": [
    "\"\"\" immutable retrieved using index\n",
    "6\n",
    "\"\"\" \n",
    "a=\"test is a test\"\n",
    "print(a)"
   ]
  },
  {
   "cell_type": "code",
   "execution_count": 13,
   "metadata": {},
   "outputs": [
    {
     "ename": "TypeError",
     "evalue": "'str' object does not support item assignment",
     "output_type": "error",
     "traceback": [
      "\u001b[1;31m---------------------------------------------------------------------------\u001b[0m",
      "\u001b[1;31mTypeError\u001b[0m                                 Traceback (most recent call last)",
      "\u001b[1;32m<ipython-input-13-74ad5fa53ccc>\u001b[0m in \u001b[0;36m<module>\u001b[1;34m\u001b[0m\n\u001b[0;32m      1\u001b[0m \u001b[1;31m#in a string you cannot change using index value like,\u001b[0m\u001b[1;33m\u001b[0m\u001b[1;33m\u001b[0m\u001b[1;33m\u001b[0m\u001b[0m\n\u001b[1;32m----> 2\u001b[1;33m \u001b[0ma\u001b[0m\u001b[1;33m[\u001b[0m\u001b[1;36m2\u001b[0m\u001b[1;33m]\u001b[0m \u001b[1;33m=\u001b[0m\u001b[1;34m\"e\"\u001b[0m\u001b[1;33m\u001b[0m\u001b[1;33m\u001b[0m\u001b[0m\n\u001b[0m",
      "\u001b[1;31mTypeError\u001b[0m: 'str' object does not support item assignment"
     ]
    }
   ],
   "source": [
    "#in a string you cannot change using index value like,\n",
    "a[2] =\"e\""
   ]
  },
  {
   "cell_type": "markdown",
   "metadata": {},
   "source": [
    "# 6. Type Conversion"
   ]
  },
  {
   "cell_type": "code",
   "execution_count": 14,
   "metadata": {},
   "outputs": [
    {
     "name": "stdout",
     "output_type": "stream",
     "text": [
      "<class 'str'>\n",
      "('A', 'a', 'r', 't', 'h', 'i')\n"
     ]
    }
   ],
   "source": [
    "a= \"Aarthi\"\n",
    "b= tuple(a)\n",
    "print(type(a))\n",
    "print (b)"
   ]
  },
  {
   "cell_type": "code",
   "execution_count": 15,
   "metadata": {},
   "outputs": [
    {
     "name": "stdout",
     "output_type": "stream",
     "text": [
      "{'a', 'A', 'i', 'h', 't', 'r'}\n"
     ]
    }
   ],
   "source": [
    "converted_set= set(a)\n",
    "print (converted_set)"
   ]
  },
  {
   "cell_type": "code",
   "execution_count": 16,
   "metadata": {},
   "outputs": [
    {
     "name": "stdout",
     "output_type": "stream",
     "text": [
      "['A', 'a', 'r', 't', 'h', 'i']\n"
     ]
    }
   ],
   "source": [
    " convertedList = list(a) \n",
    "print(convertedList)"
   ]
  },
  {
   "cell_type": "code",
   "execution_count": 17,
   "metadata": {},
   "outputs": [
    {
     "name": "stdout",
     "output_type": "stream",
     "text": [
      "4\n",
      "3\n",
      "345\n"
     ]
    }
   ],
   "source": [
    " listing = [[1,2],[3,4],['a',['er',345]]] \n",
    "print(listing[1][1])\n",
    "print(listing[1][0]) \n",
    "print(listing[2][1][1])"
   ]
  },
  {
   "cell_type": "markdown",
   "metadata": {},
   "source": [
    "# 7.String Manipulation"
   ]
  },
  {
   "cell_type": "code",
   "execution_count": 18,
   "metadata": {},
   "outputs": [
    {
     "name": "stdout",
     "output_type": "stream",
     "text": [
      "aarthi\n"
     ]
    }
   ],
   "source": [
    "name= \"Aarthi\"\n",
    "print(name.lower()) # prints in lower case"
   ]
  },
  {
   "cell_type": "code",
   "execution_count": 19,
   "metadata": {},
   "outputs": [
    {
     "name": "stdout",
     "output_type": "stream",
     "text": [
      "AARTHI\n"
     ]
    }
   ],
   "source": [
    "print(name.upper()) #prints in upper case"
   ]
  },
  {
   "cell_type": "code",
   "execution_count": 20,
   "metadata": {},
   "outputs": [
    {
     "name": "stdout",
     "output_type": "stream",
     "text": [
      "Aarthi is a good girl. She is very good at probability and mathematics.\n"
     ]
    }
   ],
   "source": [
    "eg= \"Aarthi is a bad girl. She is very bad at probability and mathematics.\"\n",
    "print(eg.replace(\"bad\",\"good\")) \n",
    "# prints the statement after replacing the word bad with good."
   ]
  },
  {
   "cell_type": "code",
   "execution_count": 21,
   "metadata": {},
   "outputs": [
    {
     "name": "stdout",
     "output_type": "stream",
     "text": [
      "t\n"
     ]
    }
   ],
   "source": [
    "name_eg= \"Aarthi.\"\n",
    "print(name_eg[3])\n",
    "#In Python, every string is a character array. So we can access the characters using index. "
   ]
  },
  {
   "cell_type": "code",
   "execution_count": 22,
   "metadata": {},
   "outputs": [
    {
     "name": "stdout",
     "output_type": "stream",
     "text": [
      "This is the review of a new hedphone i brought.\n",
      "It is such a fantastic one, i really love using it.\n",
      "And i would also recommend it to other users too..\n"
     ]
    }
   ],
   "source": [
    " #To incluse new line characters in string, we can use \"\"\" \"\"\" (3 double quotes)\n",
    "review= \"\"\"This is the review of a new hedphone i brought.\n",
    "It is such a fantastic one, i really love using it.\n",
    "And i would also recommend it to other users too..\"\"\"  \n",
    "print(review)"
   ]
  },
  {
   "cell_type": "code",
   "execution_count": 23,
   "metadata": {},
   "outputs": [
    {
     "data": {
      "text/plain": [
       "{'646': 'ascii',\n",
       " 'ansi_x3.4_1968': 'ascii',\n",
       " 'ansi_x3_4_1968': 'ascii',\n",
       " 'ansi_x3.4_1986': 'ascii',\n",
       " 'cp367': 'ascii',\n",
       " 'csascii': 'ascii',\n",
       " 'ibm367': 'ascii',\n",
       " 'iso646_us': 'ascii',\n",
       " 'iso_646.irv_1991': 'ascii',\n",
       " 'iso_ir_6': 'ascii',\n",
       " 'us': 'ascii',\n",
       " 'us_ascii': 'ascii',\n",
       " 'base64': 'base64_codec',\n",
       " 'base_64': 'base64_codec',\n",
       " 'big5_tw': 'big5',\n",
       " 'csbig5': 'big5',\n",
       " 'big5_hkscs': 'big5hkscs',\n",
       " 'hkscs': 'big5hkscs',\n",
       " 'bz2': 'bz2_codec',\n",
       " '037': 'cp037',\n",
       " 'csibm037': 'cp037',\n",
       " 'ebcdic_cp_ca': 'cp037',\n",
       " 'ebcdic_cp_nl': 'cp037',\n",
       " 'ebcdic_cp_us': 'cp037',\n",
       " 'ebcdic_cp_wt': 'cp037',\n",
       " 'ibm037': 'cp037',\n",
       " 'ibm039': 'cp037',\n",
       " '1026': 'cp1026',\n",
       " 'csibm1026': 'cp1026',\n",
       " 'ibm1026': 'cp1026',\n",
       " '1125': 'cp1125',\n",
       " 'ibm1125': 'cp1125',\n",
       " 'cp866u': 'cp1125',\n",
       " 'ruscii': 'cp1125',\n",
       " '1140': 'cp1140',\n",
       " 'ibm1140': 'cp1140',\n",
       " '1250': 'cp1250',\n",
       " 'windows_1250': 'cp1250',\n",
       " '1251': 'cp1251',\n",
       " 'windows_1251': 'cp1251',\n",
       " '1252': 'cp1252',\n",
       " 'windows_1252': 'cp1252',\n",
       " '1253': 'cp1253',\n",
       " 'windows_1253': 'cp1253',\n",
       " '1254': 'cp1254',\n",
       " 'windows_1254': 'cp1254',\n",
       " '1255': 'cp1255',\n",
       " 'windows_1255': 'cp1255',\n",
       " '1256': 'cp1256',\n",
       " 'windows_1256': 'cp1256',\n",
       " '1257': 'cp1257',\n",
       " 'windows_1257': 'cp1257',\n",
       " '1258': 'cp1258',\n",
       " 'windows_1258': 'cp1258',\n",
       " '273': 'cp273',\n",
       " 'ibm273': 'cp273',\n",
       " 'csibm273': 'cp273',\n",
       " '424': 'cp424',\n",
       " 'csibm424': 'cp424',\n",
       " 'ebcdic_cp_he': 'cp424',\n",
       " 'ibm424': 'cp424',\n",
       " '437': 'cp437',\n",
       " 'cspc8codepage437': 'cp437',\n",
       " 'ibm437': 'cp437',\n",
       " '500': 'cp500',\n",
       " 'csibm500': 'cp500',\n",
       " 'ebcdic_cp_be': 'cp500',\n",
       " 'ebcdic_cp_ch': 'cp500',\n",
       " 'ibm500': 'cp500',\n",
       " '775': 'cp775',\n",
       " 'cspc775baltic': 'cp775',\n",
       " 'ibm775': 'cp775',\n",
       " '850': 'cp850',\n",
       " 'cspc850multilingual': 'cp850',\n",
       " 'ibm850': 'cp850',\n",
       " '852': 'cp852',\n",
       " 'cspcp852': 'cp852',\n",
       " 'ibm852': 'cp852',\n",
       " '855': 'cp855',\n",
       " 'csibm855': 'cp855',\n",
       " 'ibm855': 'cp855',\n",
       " '857': 'cp857',\n",
       " 'csibm857': 'cp857',\n",
       " 'ibm857': 'cp857',\n",
       " '858': 'cp858',\n",
       " 'csibm858': 'cp858',\n",
       " 'ibm858': 'cp858',\n",
       " '860': 'cp860',\n",
       " 'csibm860': 'cp860',\n",
       " 'ibm860': 'cp860',\n",
       " '861': 'cp861',\n",
       " 'cp_is': 'cp861',\n",
       " 'csibm861': 'cp861',\n",
       " 'ibm861': 'cp861',\n",
       " '862': 'cp862',\n",
       " 'cspc862latinhebrew': 'cp862',\n",
       " 'ibm862': 'cp862',\n",
       " '863': 'cp863',\n",
       " 'csibm863': 'cp863',\n",
       " 'ibm863': 'cp863',\n",
       " '864': 'cp864',\n",
       " 'csibm864': 'cp864',\n",
       " 'ibm864': 'cp864',\n",
       " '865': 'cp865',\n",
       " 'csibm865': 'cp865',\n",
       " 'ibm865': 'cp865',\n",
       " '866': 'cp866',\n",
       " 'csibm866': 'cp866',\n",
       " 'ibm866': 'cp866',\n",
       " '869': 'cp869',\n",
       " 'cp_gr': 'cp869',\n",
       " 'csibm869': 'cp869',\n",
       " 'ibm869': 'cp869',\n",
       " '932': 'cp932',\n",
       " 'ms932': 'cp932',\n",
       " 'mskanji': 'cp932',\n",
       " 'ms_kanji': 'cp932',\n",
       " '949': 'cp949',\n",
       " 'ms949': 'cp949',\n",
       " 'uhc': 'cp949',\n",
       " '950': 'cp950',\n",
       " 'ms950': 'cp950',\n",
       " 'jisx0213': 'euc_jis_2004',\n",
       " 'eucjis2004': 'euc_jis_2004',\n",
       " 'euc_jis2004': 'euc_jis_2004',\n",
       " 'eucjisx0213': 'euc_jisx0213',\n",
       " 'eucjp': 'euc_jp',\n",
       " 'ujis': 'euc_jp',\n",
       " 'u_jis': 'euc_jp',\n",
       " 'euckr': 'euc_kr',\n",
       " 'korean': 'euc_kr',\n",
       " 'ksc5601': 'euc_kr',\n",
       " 'ks_c_5601': 'euc_kr',\n",
       " 'ks_c_5601_1987': 'euc_kr',\n",
       " 'ksx1001': 'euc_kr',\n",
       " 'ks_x_1001': 'euc_kr',\n",
       " 'gb18030_2000': 'gb18030',\n",
       " 'chinese': 'gb2312',\n",
       " 'csiso58gb231280': 'gb2312',\n",
       " 'euc_cn': 'gb2312',\n",
       " 'euccn': 'gb2312',\n",
       " 'eucgb2312_cn': 'gb2312',\n",
       " 'gb2312_1980': 'gb2312',\n",
       " 'gb2312_80': 'gb2312',\n",
       " 'iso_ir_58': 'gb2312',\n",
       " '936': 'gbk',\n",
       " 'cp936': 'gbk',\n",
       " 'ms936': 'gbk',\n",
       " 'hex': 'hex_codec',\n",
       " 'roman8': 'hp_roman8',\n",
       " 'r8': 'hp_roman8',\n",
       " 'csHPRoman8': 'hp_roman8',\n",
       " 'hzgb': 'hz',\n",
       " 'hz_gb': 'hz',\n",
       " 'hz_gb_2312': 'hz',\n",
       " 'csiso2022jp': 'iso2022_jp',\n",
       " 'iso2022jp': 'iso2022_jp',\n",
       " 'iso_2022_jp': 'iso2022_jp',\n",
       " 'iso2022jp_1': 'iso2022_jp_1',\n",
       " 'iso_2022_jp_1': 'iso2022_jp_1',\n",
       " 'iso2022jp_2': 'iso2022_jp_2',\n",
       " 'iso_2022_jp_2': 'iso2022_jp_2',\n",
       " 'iso_2022_jp_2004': 'iso2022_jp_2004',\n",
       " 'iso2022jp_2004': 'iso2022_jp_2004',\n",
       " 'iso2022jp_3': 'iso2022_jp_3',\n",
       " 'iso_2022_jp_3': 'iso2022_jp_3',\n",
       " 'iso2022jp_ext': 'iso2022_jp_ext',\n",
       " 'iso_2022_jp_ext': 'iso2022_jp_ext',\n",
       " 'csiso2022kr': 'iso2022_kr',\n",
       " 'iso2022kr': 'iso2022_kr',\n",
       " 'iso_2022_kr': 'iso2022_kr',\n",
       " 'csisolatin6': 'iso8859_10',\n",
       " 'iso_8859_10': 'iso8859_10',\n",
       " 'iso_8859_10_1992': 'iso8859_10',\n",
       " 'iso_ir_157': 'iso8859_10',\n",
       " 'l6': 'iso8859_10',\n",
       " 'latin6': 'iso8859_10',\n",
       " 'thai': 'iso8859_11',\n",
       " 'iso_8859_11': 'iso8859_11',\n",
       " 'iso_8859_11_2001': 'iso8859_11',\n",
       " 'iso_8859_13': 'iso8859_13',\n",
       " 'l7': 'iso8859_13',\n",
       " 'latin7': 'iso8859_13',\n",
       " 'iso_8859_14': 'iso8859_14',\n",
       " 'iso_8859_14_1998': 'iso8859_14',\n",
       " 'iso_celtic': 'iso8859_14',\n",
       " 'iso_ir_199': 'iso8859_14',\n",
       " 'l8': 'iso8859_14',\n",
       " 'latin8': 'iso8859_14',\n",
       " 'iso_8859_15': 'iso8859_15',\n",
       " 'l9': 'iso8859_15',\n",
       " 'latin9': 'iso8859_15',\n",
       " 'iso_8859_16': 'iso8859_16',\n",
       " 'iso_8859_16_2001': 'iso8859_16',\n",
       " 'iso_ir_226': 'iso8859_16',\n",
       " 'l10': 'iso8859_16',\n",
       " 'latin10': 'iso8859_16',\n",
       " 'csisolatin2': 'iso8859_2',\n",
       " 'iso_8859_2': 'iso8859_2',\n",
       " 'iso_8859_2_1987': 'iso8859_2',\n",
       " 'iso_ir_101': 'iso8859_2',\n",
       " 'l2': 'iso8859_2',\n",
       " 'latin2': 'iso8859_2',\n",
       " 'csisolatin3': 'iso8859_3',\n",
       " 'iso_8859_3': 'iso8859_3',\n",
       " 'iso_8859_3_1988': 'iso8859_3',\n",
       " 'iso_ir_109': 'iso8859_3',\n",
       " 'l3': 'iso8859_3',\n",
       " 'latin3': 'iso8859_3',\n",
       " 'csisolatin4': 'iso8859_4',\n",
       " 'iso_8859_4': 'iso8859_4',\n",
       " 'iso_8859_4_1988': 'iso8859_4',\n",
       " 'iso_ir_110': 'iso8859_4',\n",
       " 'l4': 'iso8859_4',\n",
       " 'latin4': 'iso8859_4',\n",
       " 'csisolatincyrillic': 'iso8859_5',\n",
       " 'cyrillic': 'iso8859_5',\n",
       " 'iso_8859_5': 'iso8859_5',\n",
       " 'iso_8859_5_1988': 'iso8859_5',\n",
       " 'iso_ir_144': 'iso8859_5',\n",
       " 'arabic': 'iso8859_6',\n",
       " 'asmo_708': 'iso8859_6',\n",
       " 'csisolatinarabic': 'iso8859_6',\n",
       " 'ecma_114': 'iso8859_6',\n",
       " 'iso_8859_6': 'iso8859_6',\n",
       " 'iso_8859_6_1987': 'iso8859_6',\n",
       " 'iso_ir_127': 'iso8859_6',\n",
       " 'csisolatingreek': 'iso8859_7',\n",
       " 'ecma_118': 'iso8859_7',\n",
       " 'elot_928': 'iso8859_7',\n",
       " 'greek': 'iso8859_7',\n",
       " 'greek8': 'iso8859_7',\n",
       " 'iso_8859_7': 'iso8859_7',\n",
       " 'iso_8859_7_1987': 'iso8859_7',\n",
       " 'iso_ir_126': 'iso8859_7',\n",
       " 'csisolatinhebrew': 'iso8859_8',\n",
       " 'hebrew': 'iso8859_8',\n",
       " 'iso_8859_8': 'iso8859_8',\n",
       " 'iso_8859_8_1988': 'iso8859_8',\n",
       " 'iso_ir_138': 'iso8859_8',\n",
       " 'csisolatin5': 'iso8859_9',\n",
       " 'iso_8859_9': 'iso8859_9',\n",
       " 'iso_8859_9_1989': 'iso8859_9',\n",
       " 'iso_ir_148': 'iso8859_9',\n",
       " 'l5': 'iso8859_9',\n",
       " 'latin5': 'iso8859_9',\n",
       " 'cp1361': 'johab',\n",
       " 'ms1361': 'johab',\n",
       " 'cskoi8r': 'koi8_r',\n",
       " 'kz_1048': 'kz1048',\n",
       " 'rk1048': 'kz1048',\n",
       " 'strk1048_2002': 'kz1048',\n",
       " '8859': 'latin_1',\n",
       " 'cp819': 'latin_1',\n",
       " 'csisolatin1': 'latin_1',\n",
       " 'ibm819': 'latin_1',\n",
       " 'iso8859': 'latin_1',\n",
       " 'iso8859_1': 'latin_1',\n",
       " 'iso_8859_1': 'latin_1',\n",
       " 'iso_8859_1_1987': 'latin_1',\n",
       " 'iso_ir_100': 'latin_1',\n",
       " 'l1': 'latin_1',\n",
       " 'latin': 'latin_1',\n",
       " 'latin1': 'latin_1',\n",
       " 'maccyrillic': 'mac_cyrillic',\n",
       " 'macgreek': 'mac_greek',\n",
       " 'maciceland': 'mac_iceland',\n",
       " 'maccentraleurope': 'mac_latin2',\n",
       " 'maclatin2': 'mac_latin2',\n",
       " 'macintosh': 'mac_roman',\n",
       " 'macroman': 'mac_roman',\n",
       " 'macturkish': 'mac_turkish',\n",
       " 'ansi': 'mbcs',\n",
       " 'dbcs': 'mbcs',\n",
       " 'csptcp154': 'ptcp154',\n",
       " 'pt154': 'ptcp154',\n",
       " 'cp154': 'ptcp154',\n",
       " 'cyrillic_asian': 'ptcp154',\n",
       " 'quopri': 'quopri_codec',\n",
       " 'quoted_printable': 'quopri_codec',\n",
       " 'quotedprintable': 'quopri_codec',\n",
       " 'rot13': 'rot_13',\n",
       " 'csshiftjis': 'shift_jis',\n",
       " 'shiftjis': 'shift_jis',\n",
       " 'sjis': 'shift_jis',\n",
       " 's_jis': 'shift_jis',\n",
       " 'shiftjis2004': 'shift_jis_2004',\n",
       " 'sjis_2004': 'shift_jis_2004',\n",
       " 's_jis_2004': 'shift_jis_2004',\n",
       " 'shiftjisx0213': 'shift_jisx0213',\n",
       " 'sjisx0213': 'shift_jisx0213',\n",
       " 's_jisx0213': 'shift_jisx0213',\n",
       " 'tis260': 'tactis',\n",
       " 'tis620': 'tis_620',\n",
       " 'tis_620_0': 'tis_620',\n",
       " 'tis_620_2529_0': 'tis_620',\n",
       " 'tis_620_2529_1': 'tis_620',\n",
       " 'iso_ir_166': 'tis_620',\n",
       " 'u16': 'utf_16',\n",
       " 'utf16': 'utf_16',\n",
       " 'unicodebigunmarked': 'utf_16_be',\n",
       " 'utf_16be': 'utf_16_be',\n",
       " 'unicodelittleunmarked': 'utf_16_le',\n",
       " 'utf_16le': 'utf_16_le',\n",
       " 'u32': 'utf_32',\n",
       " 'utf32': 'utf_32',\n",
       " 'utf_32be': 'utf_32_be',\n",
       " 'utf_32le': 'utf_32_le',\n",
       " 'u7': 'utf_7',\n",
       " 'utf7': 'utf_7',\n",
       " 'unicode_1_1_utf_7': 'utf_7',\n",
       " 'u8': 'utf_8',\n",
       " 'utf': 'utf_8',\n",
       " 'utf8': 'utf_8',\n",
       " 'utf8_ucs2': 'utf_8',\n",
       " 'utf8_ucs4': 'utf_8',\n",
       " 'uu': 'uu_codec',\n",
       " 'zip': 'zlib_codec',\n",
       " 'zlib': 'zlib_codec',\n",
       " 'x_mac_japanese': 'shift_jis',\n",
       " 'x_mac_korean': 'euc_kr',\n",
       " 'x_mac_simp_chinese': 'gb2312',\n",
       " 'x_mac_trad_chinese': 'big5'}"
      ]
     },
     "execution_count": 23,
     "metadata": {},
     "output_type": "execute_result"
    }
   ],
   "source": [
    " ## Encoding in Python \n",
    "from encodings.aliases import aliases \n",
    "aliases\n",
    "#Strings are stored in a default encoding format of Unicode UTF-8. "
   ]
  },
  {
   "cell_type": "code",
   "execution_count": 24,
   "metadata": {},
   "outputs": [
    {
     "data": {
      "text/plain": [
       "b'\\xff\\xfeT\\x00h\\x00i\\x00s\\x00 \\x00i\\x00s\\x00 \\x00t\\x00h\\x00e\\x00 \\x00r\\x00e\\x00v\\x00i\\x00e\\x00w\\x00 \\x00o\\x00f\\x00 \\x00a\\x00 \\x00n\\x00e\\x00w\\x00 \\x00h\\x00e\\x00d\\x00p\\x00h\\x00o\\x00n\\x00e\\x00 \\x00i\\x00 \\x00b\\x00r\\x00o\\x00u\\x00g\\x00h\\x00t\\x00.\\x00\\n\\x00I\\x00t\\x00 \\x00i\\x00s\\x00 \\x00s\\x00u\\x00c\\x00h\\x00 \\x00a\\x00 \\x00f\\x00a\\x00n\\x00t\\x00a\\x00s\\x00t\\x00i\\x00c\\x00 \\x00o\\x00n\\x00e\\x00,\\x00 \\x00i\\x00 \\x00r\\x00e\\x00a\\x00l\\x00l\\x00y\\x00 \\x00l\\x00o\\x00v\\x00e\\x00 \\x00u\\x00s\\x00i\\x00n\\x00g\\x00 \\x00i\\x00t\\x00.\\x00\\n\\x00A\\x00n\\x00d\\x00 \\x00i\\x00 \\x00w\\x00o\\x00u\\x00l\\x00d\\x00 \\x00a\\x00l\\x00s\\x00o\\x00 \\x00r\\x00e\\x00c\\x00o\\x00m\\x00m\\x00e\\x00n\\x00d\\x00 \\x00i\\x00t\\x00 \\x00t\\x00o\\x00 \\x00o\\x00t\\x00h\\x00e\\x00r\\x00 \\x00u\\x00s\\x00e\\x00r\\x00s\\x00 \\x00t\\x00o\\x00o\\x00.\\x00.\\x00'"
      ]
     },
     "execution_count": 24,
     "metadata": {},
     "output_type": "execute_result"
    }
   ],
   "source": [
    "review= \"\"\"This is the review of a new hedphone i brought.\n",
    "It is such a fantastic one, i really love using it.\n",
    "And i would also recommend it to other users too..\"\"\"  \n",
    "review.encode(\"utf-16\")\n",
    "#each string is just a sequence of unicode code points.\n",
    "#using this function, unicode strings are convered to any encoding supported by python."
   ]
  },
  {
   "cell_type": "markdown",
   "metadata": {},
   "source": [
    "#    8.Split"
   ]
  },
  {
   "cell_type": "code",
   "execution_count": 25,
   "metadata": {},
   "outputs": [
    {
     "data": {
      "text/plain": [
       "['The haedphones are working fine', ' But I do not like the built', '']"
      ]
     },
     "execution_count": 25,
     "metadata": {},
     "output_type": "execute_result"
    }
   ],
   "source": [
    "review= \"The haedphones are working fine. But I do not like the built.\"\n",
    "review.split(\".\")"
   ]
  },
  {
   "cell_type": "code",
   "execution_count": 26,
   "metadata": {},
   "outputs": [
    {
     "data": {
      "text/plain": [
       "True"
      ]
     },
     "execution_count": 26,
     "metadata": {},
     "output_type": "execute_result"
    }
   ],
   "source": [
    "review= \"The haedphones are working fine. But I do not like the built.Yet, it working fine with Iphone.\"\n",
    "\"Iphone\" in review # to find whether a particular word in present in a string"
   ]
  },
  {
   "cell_type": "code",
   "execution_count": 27,
   "metadata": {},
   "outputs": [
    {
     "name": "stdout",
     "output_type": "stream",
     "text": [
      "Father of Aarthi, is Kasirajan\n"
     ]
    }
   ],
   "source": [
    "person1=\"Aarthi\"\n",
    "person2= \"Kasirajan\"\n",
    "print(\"Father of {0}, is {1}\".format(person1,person2) )"
   ]
  },
  {
   "cell_type": "code",
   "execution_count": 28,
   "metadata": {},
   "outputs": [
    {
     "name": "stdout",
     "output_type": "stream",
     "text": [
      "The HeadPhones are compatible with \"Apple products\" which most products dont support. \n"
     ]
    }
   ],
   "source": [
    "review = \"The HeadPhones are compatible with \\\"Apple products\\\" which most products dont support. \"\n",
    "#using // to print \"\"quotes inside a printing statement.\n",
    "print(review)"
   ]
  },
  {
   "cell_type": "markdown",
   "metadata": {},
   "source": [
    "# 9.Strip"
   ]
  },
  {
   "cell_type": "code",
   "execution_count": 27,
   "metadata": {},
   "outputs": [],
   "source": [
    "#Removes white space from the tsring"
   ]
  },
  {
   "cell_type": "code",
   "execution_count": 29,
   "metadata": {},
   "outputs": [
    {
     "name": "stdout",
     "output_type": "stream",
     "text": [
      "The headphone review is awesome.\n",
      "But, I do not like       the built                           feature.\n"
     ]
    }
   ],
   "source": [
    "re1= \"          The headphone review is awesome.               \"\n",
    "re2= \"But, I do not like       the built                           feature.\"\n",
    "print(re1.strip())\n",
    "print(re2.strip()) # the function removes only the blank space only at begining and trail \n",
    "#whatever be mentioned in the function removed only if present in begining and trail"
   ]
  },
  {
   "cell_type": "code",
   "execution_count": 30,
   "metadata": {},
   "outputs": [
    {
     "name": "stdout",
     "output_type": "stream",
     "text": [
      "The #### headphones are working fine.\n",
      "The headphones are working fine.\n"
     ]
    }
   ],
   "source": [
    "review1= \"The #### headphones are working fine.\"\n",
    "review2= \"######The headphones are working fine.\"\n",
    "print(review1.strip(\"#\"))\n",
    "print(review2.strip(\"#\"))    "
   ]
  },
  {
   "cell_type": "markdown",
   "metadata": {},
   "source": [
    "# 10. Join, Split, Count, Title vs Capitalize"
   ]
  },
  {
   "cell_type": "code",
   "execution_count": 31,
   "metadata": {},
   "outputs": [
    {
     "data": {
      "text/plain": [
       "'The HeadPhones are working fine. But I do not like the built.'"
      ]
     },
     "execution_count": 31,
     "metadata": {},
     "output_type": "execute_result"
    }
   ],
   "source": [
    "r1 = \" The HeadPhones are working fine. But I do not like the built. \" \n",
    "\n",
    "\" \".join(r1.split())"
   ]
  },
  {
   "cell_type": "code",
   "execution_count": 33,
   "metadata": {},
   "outputs": [
    {
     "ename": "TypeError",
     "evalue": "sequence item 0: expected str instance, int found",
     "output_type": "error",
     "traceback": [
      "\u001b[1;31m---------------------------------------------------------------------------\u001b[0m",
      "\u001b[1;31mTypeError\u001b[0m                                 Traceback (most recent call last)",
      "\u001b[1;32m<ipython-input-33-a5247b69067b>\u001b[0m in \u001b[0;36m<module>\u001b[1;34m\u001b[0m\n\u001b[1;32m----> 1\u001b[1;33m \u001b[1;34m\"&&\"\u001b[0m\u001b[1;33m.\u001b[0m\u001b[0mjoin\u001b[0m\u001b[1;33m(\u001b[0m\u001b[0mlist1\u001b[0m\u001b[1;33m)\u001b[0m\u001b[1;33m\u001b[0m\u001b[1;33m\u001b[0m\u001b[0m\n\u001b[0m",
      "\u001b[1;31mTypeError\u001b[0m: sequence item 0: expected str instance, int found"
     ]
    }
   ],
   "source": [
    "\"&&\".join(list1)"
   ]
  },
  {
   "cell_type": "code",
   "execution_count": 34,
   "metadata": {},
   "outputs": [
    {
     "data": {
      "text/plain": [
       "6"
      ]
     },
     "execution_count": 34,
     "metadata": {},
     "output_type": "execute_result"
    }
   ],
   "source": [
    "r2= \"I brought a headphone recently. They are working fine. But, i wish it would have been compatible with apple products.\"\n",
    "r2.count(\"o\")"
   ]
  },
  {
   "cell_type": "code",
   "execution_count": 35,
   "metadata": {},
   "outputs": [
    {
     "data": {
      "text/plain": [
       "'I Brought A Headphone Recently. They Are Working Fine. But, I Wish It Would Have Been Compatible With Apple Products.'"
      ]
     },
     "execution_count": 35,
     "metadata": {},
     "output_type": "execute_result"
    }
   ],
   "source": [
    "r2.title()"
   ]
  },
  {
   "cell_type": "code",
   "execution_count": 36,
   "metadata": {},
   "outputs": [
    {
     "data": {
      "text/plain": [
       "'I brought a headphone recently. they are working fine. but, i wish it would have been compatible with apple products.'"
      ]
     },
     "execution_count": 36,
     "metadata": {},
     "output_type": "execute_result"
    }
   ],
   "source": [
    "r2.capitalize()"
   ]
  },
  {
   "cell_type": "markdown",
   "metadata": {},
   "source": [
    "# 11.Conditional Loops"
   ]
  },
  {
   "cell_type": "code",
   "execution_count": null,
   "metadata": {},
   "outputs": [],
   "source": [
    "#Conditions-\n",
    "#• Equals: a == b \n",
    "#• Not Equals: a != b \n",
    "#• Less than: a < b, Greater than: a > b \n",
    "#• a <= b, a >= b \n",
    "#• and, or\n"
   ]
  },
  {
   "cell_type": "code",
   "execution_count": 37,
   "metadata": {},
   "outputs": [
    {
     "name": "stdout",
     "output_type": "stream",
     "text": [
      "Please enter you name:Aarthi\n",
      "Welcome, Aarthi\n"
     ]
    }
   ],
   "source": [
    "name= input(\"Please enter you name:\")\n",
    "if name!=\"\":\n",
    "    print(\"Welcome,\",name)\n",
    "else:\n",
    "    name= input(\"We kindly request you to enter your name:\")\n",
    "    print(\"Welcome\",name)"
   ]
  },
  {
   "cell_type": "code",
   "execution_count": 40,
   "metadata": {},
   "outputs": [
    {
     "ename": "SyntaxError",
     "evalue": "invalid syntax (<ipython-input-40-ceec8cb7da14>, line 3)",
     "output_type": "error",
     "traceback": [
      "\u001b[1;36m  File \u001b[1;32m\"<ipython-input-40-ceec8cb7da14>\"\u001b[1;36m, line \u001b[1;32m3\u001b[0m\n\u001b[1;33m    b = int(input(\"Please enter anothe value: \")\u001b[0m\n\u001b[1;37m    ^\u001b[0m\n\u001b[1;31mSyntaxError\u001b[0m\u001b[1;31m:\u001b[0m invalid syntax\n"
     ]
    }
   ],
   "source": [
    "#Elif:\n",
    "a = int(input(\"Please enter a value: \")\n",
    "b = int(input(\"Please enter another value: \")\n",
    "c = a + b\n",
    "print (c)\n",
    "if c>10  :\n",
    "    print(\"You have entered two numbers and their sum is greater than 10 !! \")\n",
    "elif c <0:\n",
    "    print(\"Opps!! Your numbers add to a negative number !! \")\n",
    "else:\n",
    "    print(\"The sum of values you hav entered is \", c)\n",
    "    "
   ]
  },
  {
   "cell_type": "markdown",
   "metadata": {},
   "source": [
    "# 12. Nested If"
   ]
  },
  {
   "cell_type": "code",
   "execution_count": 41,
   "metadata": {},
   "outputs": [
    {
     "name": "stdout",
     "output_type": "stream",
     "text": [
      "Please enter your name:\n",
      "We, insist you to introduce yourself to us:\n",
      "We have given you to make chanes to introduce you, but you have exceeded al the chances.\n"
     ]
    }
   ],
   "source": [
    "name = input(\"Please enter your name:\")\n",
    "if name!=\"\":\n",
    "    print(\"Welcome, Hello!!, \", name)\n",
    "else:\n",
    "    name= input(\"We, insist you to introduce yourself to us:\")\n",
    "    if name!=\"\":\n",
    "        print (\"Welcome,\", name)\n",
    "    else:\n",
    "        print(\"We have given you to make chanes to introduce you, but you have exceeded al the chances.\")\n",
    "# we have added another if loop inside the first if loop - This i called Nested If\n",
    "        "
   ]
  },
  {
   "cell_type": "code",
   "execution_count": 42,
   "metadata": {},
   "outputs": [
    {
     "name": "stdout",
     "output_type": "stream",
     "text": [
      "Please enter the recent score of Virat23\n",
      "Please enter the recent score of Dhoni45\n",
      "Please enter the recent score of Raina23\n"
     ]
    },
    {
     "ename": "TypeError",
     "evalue": "'>' not supported between instances of 'str' and 'int'",
     "output_type": "error",
     "traceback": [
      "\u001b[1;31m---------------------------------------------------------------------------\u001b[0m",
      "\u001b[1;31mTypeError\u001b[0m                                 Traceback (most recent call last)",
      "\u001b[1;32m<ipython-input-42-9df35da823d3>\u001b[0m in \u001b[0;36m<module>\u001b[1;34m\u001b[0m\n\u001b[0;32m      2\u001b[0m \u001b[0mP2\u001b[0m\u001b[1;33m=\u001b[0m \u001b[0minput\u001b[0m\u001b[1;33m(\u001b[0m\u001b[1;34m\"Please enter the recent score of Dhoni\"\u001b[0m\u001b[1;33m)\u001b[0m\u001b[1;33m\u001b[0m\u001b[1;33m\u001b[0m\u001b[0m\n\u001b[0;32m      3\u001b[0m \u001b[0mP3\u001b[0m \u001b[1;33m=\u001b[0m\u001b[0minput\u001b[0m\u001b[1;33m(\u001b[0m\u001b[1;34m\"Please enter the recent score of Raina\"\u001b[0m\u001b[1;33m)\u001b[0m\u001b[1;33m\u001b[0m\u001b[1;33m\u001b[0m\u001b[0m\n\u001b[1;32m----> 4\u001b[1;33m \u001b[1;32mif\u001b[0m\u001b[1;33m(\u001b[0m\u001b[0mP1\u001b[0m \u001b[1;33m>\u001b[0m \u001b[1;36m50\u001b[0m\u001b[1;33m)\u001b[0m\u001b[1;33m:\u001b[0m\u001b[1;33m\u001b[0m\u001b[1;33m\u001b[0m\u001b[0m\n\u001b[0m\u001b[0;32m      5\u001b[0m     \u001b[1;32mif\u001b[0m\u001b[1;33m(\u001b[0m\u001b[0mP2\u001b[0m \u001b[1;33m>\u001b[0m \u001b[1;36m100\u001b[0m\u001b[1;33m)\u001b[0m\u001b[1;33m:\u001b[0m\u001b[1;33m\u001b[0m\u001b[1;33m\u001b[0m\u001b[0m\n\u001b[0;32m      6\u001b[0m         \u001b[1;32mif\u001b[0m\u001b[1;33m(\u001b[0m\u001b[0mP3\u001b[0m \u001b[1;33m>\u001b[0m \u001b[1;36m50\u001b[0m\u001b[1;33m)\u001b[0m\u001b[1;33m:\u001b[0m\u001b[1;33m\u001b[0m\u001b[1;33m\u001b[0m\u001b[0m\n",
      "\u001b[1;31mTypeError\u001b[0m: '>' not supported between instances of 'str' and 'int'"
     ]
    }
   ],
   "source": [
    "P1 = input(\"Please enter the recent score of Virat:\")\n",
    "P2= input(\"Please enter the recent score of Dhoni:\")\n",
    "P3 =input(\"Please enter the recent score of Raina:\")\n",
    "if(P1 > 50):\n",
    "    if(P2 > 100):\n",
    "        if(P3 > 50):\n",
    "            print (\"Our whole team is performing very well, we have a chance to win the T20 trophy.\")\n",
    "        else:\n",
    "            print(\"Our team is performing well except one player.\")\n",
    "    else:\n",
    "        print(\"Our team need to improve a little.\")\n",
    "else:\n",
    "    print(\"Three players in our team are not doing well.\")"
   ]
  },
  {
   "cell_type": "code",
   "execution_count": 43,
   "metadata": {},
   "outputs": [
    {
     "name": "stdout",
     "output_type": "stream",
     "text": [
      "Our team is doing phenomenal job! :)\n",
      "Our team is doing phenomenal job! :)\n"
     ]
    }
   ],
   "source": [
    "# Here in this progra instead of using nested if , we can check for the condition in a single condition only.\n",
    "player1 = 60 \n",
    "player2 = 70 \n",
    "player3 = 100\n",
    "if (player1 > 50 and player2 > 50 and player3 > 50):\n",
    "    print(\"Our team is doing phenomenal job! :)\") \n",
    "else: print(\"Players are not doing well. :(\")\n",
    "if (player1 < 50 or player2 < 50 or player3 < 50): \n",
    "    print(\"Players are not doing well. :(\") \n",
    "else: print(\"Our team is doing phenomenal job! :)\")"
   ]
  },
  {
   "cell_type": "markdown",
   "metadata": {},
   "source": [
    "# 13.Conditional Loop"
   ]
  },
  {
   "cell_type": "code",
   "execution_count": 44,
   "metadata": {},
   "outputs": [
    {
     "name": "stdout",
     "output_type": "stream",
     "text": [
      "5\n",
      "4\n",
      "3\n",
      "2\n",
      "1\n",
      "0\n"
     ]
    }
   ],
   "source": [
    "n =5\n",
    "while (n>=0):\n",
    "    print (n)\n",
    "    n = n-1\n"
   ]
  },
  {
   "cell_type": "code",
   "execution_count": 45,
   "metadata": {},
   "outputs": [
    {
     "name": "stdout",
     "output_type": "stream",
     "text": [
      "10\n",
      "25\n",
      "80\n",
      "50\n",
      "76\n",
      "98\n"
     ]
    }
   ],
   "source": [
    "lst = [10,25,80,50,76,98]\n",
    "for i in lst:\n",
    "\n",
    "    print (i)"
   ]
  },
  {
   "cell_type": "code",
   "execution_count": 46,
   "metadata": {},
   "outputs": [
    {
     "name": "stdout",
     "output_type": "stream",
     "text": [
      "2\n",
      "4\n",
      "6\n",
      "8\n",
      "10\n",
      "12\n",
      "14\n",
      "16\n",
      "18\n",
      "20\n",
      "22\n"
     ]
    }
   ],
   "source": [
    "# range(a,b) - loop will; start from a and go unitll b , but both a and b will not be included.\n",
    "for i in range(1,23):\n",
    "    if(i%2==0):\n",
    "        print(i)"
   ]
  },
  {
   "cell_type": "code",
   "execution_count": 47,
   "metadata": {},
   "outputs": [
    {
     "name": "stdout",
     "output_type": "stream",
     "text": [
      "1\n",
      "7\n",
      "13\n",
      "19\n",
      "25\n"
     ]
    }
   ],
   "source": [
    "# range(a,b,c) - loop will; start from\" a\" and go unitll \"b\" incrementing with \"c\" value each time, \n",
    "# but both a and b will not be included.\n",
    "for i in range(1,30,3):\n",
    "    if(i%2==1):\n",
    "        print(i)"
   ]
  },
  {
   "cell_type": "markdown",
   "metadata": {},
   "source": [
    "# 14. Functions"
   ]
  },
  {
   "cell_type": "raw",
   "metadata": {},
   "source": [
    "• Functions are block of statements that can be called to do a set of operations whenever needed.\n",
    "• It can be called multiple times anywhere from a program that has access to the function. \n",
    "• It can return the value to the called statement (optional)\n",
    "• It can have paramters to pass into the function. \n",
    "• Parameters can have default values. "
   ]
  },
  {
   "cell_type": "code",
   "execution_count": 48,
   "metadata": {},
   "outputs": [
    {
     "name": "stdout",
     "output_type": "stream",
     "text": [
      "Printing Hello, World through a function.. \n"
     ]
    }
   ],
   "source": [
    "# a simple function that prints a stament.\n",
    "def welcome():\n",
    "    print (\"Printing Hello, World through a function.. \")\n",
    "\n",
    "welcome()"
   ]
  },
  {
   "cell_type": "code",
   "execution_count": 49,
   "metadata": {},
   "outputs": [
    {
     "name": "stdout",
     "output_type": "stream",
     "text": [
      "Hello, Aishwayra\n"
     ]
    }
   ],
   "source": [
    "# function by passing a parameter\n",
    "def greet(name):\n",
    "    print (\"Hello, \" + name)\n",
    "\n",
    "greet(\"Aishwayra\")    "
   ]
  },
  {
   "cell_type": "code",
   "execution_count": 51,
   "metadata": {},
   "outputs": [
    {
     "name": "stdout",
     "output_type": "stream",
     "text": [
      "The product and sum of 50 and 5 is:  (250, 55)\n"
     ]
    }
   ],
   "source": [
    "# returning multiple values.\n",
    "def MultiAndAdd(a,b):\n",
    "    return a*b,a+b\n",
    "print (\"The product and sum of 50 and 5 is: \", MultiAndAdd(50,5))"
   ]
  },
  {
   "cell_type": "code",
   "execution_count": 52,
   "metadata": {},
   "outputs": [
    {
     "data": {
      "text/plain": [
       "120"
      ]
     },
     "execution_count": 52,
     "metadata": {},
     "output_type": "execute_result"
    }
   ],
   "source": [
    "# Recursive Function\n",
    "def fact(n):\n",
    "    if (n==1):\n",
    "        return(n)\n",
    "    else: \n",
    "        return(n * fact(n-1))\n",
    "\n",
    "fact(5)"
   ]
  }
 ],
 "metadata": {
  "kernelspec": {
   "display_name": "Python 3",
   "language": "python",
   "name": "python3"
  },
  "language_info": {
   "codemirror_mode": {
    "name": "ipython",
    "version": 3
   },
   "file_extension": ".py",
   "mimetype": "text/x-python",
   "name": "python",
   "nbconvert_exporter": "python",
   "pygments_lexer": "ipython3",
   "version": "3.7.6"
  }
 },
 "nbformat": 4,
 "nbformat_minor": 4
}
