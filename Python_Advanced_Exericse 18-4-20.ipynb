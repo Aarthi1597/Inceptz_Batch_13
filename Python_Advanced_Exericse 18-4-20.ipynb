{
 "cells": [
  {
   "cell_type": "raw",
   "metadata": {},
   "source": [
    "Exercise 1: Write a function to sort the list based on the first letter of the second element"
   ]
  },
  {
   "cell_type": "raw",
   "metadata": {},
   "source": [
    "Original list: [(19542209, 'New York'), (4887871, 'Alabama'), (1420491, 'Hawaii'), (626299, 'Vermont'), (1805832, 'West Virginia'), (39865590, 'California')]\n",
    "Sorted list: [(4887871, 'Alabama'), (39865590, 'California'), (1420491, 'Hawaii'), (19542209, 'New York'), (626299, 'Vermont'), (1805832, 'West Virginia')]"
   ]
  },
  {
   "cell_type": "code",
   "execution_count": 1,
   "metadata": {},
   "outputs": [
    {
     "name": "stdout",
     "output_type": "stream",
     "text": [
      "['Alabama', 'California', 'Hawaii', 'New York', 'Vermont', 'West Virginia'] \n",
      "\n",
      " Sorted List is:\n",
      "[(4887871, 'Alabama'), (39865590, 'California'), (1420491, 'Hawaii'), (19542209, 'New York'), (626299, 'Vermont'), (1805832, 'West Virginia')]\n"
     ]
    }
   ],
   "source": [
    "original = [(19542209, 'New York'), (4887871, 'Alabama'), (1420491, 'Hawaii'), (626299, 'Vermont'), (1805832, 'West Virginia'), (39865590, 'California')]\n",
    "def sortList(num):\n",
    "    for i in original:\n",
    "        if(num == i[1]):\n",
    "            return i\n",
    "\n",
    "lst1 = [i[1] for i in original]\n",
    "lst1.sort()\n",
    "print(lst1,\"\\n\\n Sorted List is:\")\n",
    "sortLst = list(map(sortList,lst1))\n",
    "print(sortLst)"
   ]
  },
  {
   "cell_type": "raw",
   "metadata": {},
   "source": [
    "Exercise 2: Write a function to sort the list based on the last letter of the second element"
   ]
  },
  {
   "cell_type": "raw",
   "metadata": {},
   "source": [
    "Original list [(19542209, 'New York'), (4887871, 'Alabama'), (1420491, 'Hawaii'), (626299, 'Vermont'), (1805832, 'West Virginia'), (39865590, 'California')]\n",
    "Sorted list [(4887871, 'Alabama'), (1805832, 'West Virginia'), (39865590, 'California'), (1420491, 'Hawaii'), (19542209, 'New York'), (626299, 'Vermont')]"
   ]
  },
  {
   "cell_type": "code",
   "execution_count": 2,
   "metadata": {},
   "outputs": [
    {
     "name": "stdout",
     "output_type": "stream",
     "text": [
      "['West Virginia', 'California', 'Alabama', 'Hawaii', 'New York', 'Vermont'] \n",
      "\n",
      " Sorted List is:\n",
      "[(1805832, 'West Virginia'), (39865590, 'California'), (4887871, 'Alabama'), (1420491, 'Hawaii'), (19542209, 'New York'), (626299, 'Vermont')]\n"
     ]
    }
   ],
   "source": [
    "original = [(19542209, 'New York'), (4887871, 'Alabama'), (1420491, 'Hawaii'), (626299, 'Vermont'), (1805832, 'West Virginia'), (39865590, 'California')]\n",
    "def sortList(num):\n",
    "    for i in original:\n",
    "        if(num == i[1]):\n",
    "            return i\n",
    "\n",
    "lst1 = [i[1] for i in original]\n",
    "lst1.sort(key =lambda word: word[::-1])\n",
    "print(lst1,\"\\n\\n Sorted List is:\")\n",
    "sortLst = list(map(sortList,lst1))\n",
    "print(sortLst)"
   ]
  },
  {
   "cell_type": "raw",
   "metadata": {},
   "source": [
    "Exercise 3: Create a range from 1 to 8 merge the given list and together to create a new list of tuples."
   ]
  },
  {
   "cell_type": "raw",
   "metadata": {},
   "source": [
    "lst1=[\"Energy\", \"Agriculture\", \"Industry\", \"Technology\", \"Finance\", \"Forestry\", \"Transport\"]\n",
    "\n",
    "[('Energy', 1), ('Agriculture', 2), ('Industry', 3), ('Technology', 4), ('Finance', 5), ('Forestry', 6), ('Transport', 7)]"
   ]
  },
  {
   "cell_type": "code",
   "execution_count": 3,
   "metadata": {},
   "outputs": [
    {
     "name": "stdout",
     "output_type": "stream",
     "text": [
      "[('Energy', 1), ('Agriculture', 2), ('Industry', 3), ('Technology', 4), ('Finance', 5), ('Forestry', 6), ('Transport', 7)]\n"
     ]
    }
   ],
   "source": [
    "lst = [\"Energy\", \"Agriculture\", \"Industry\", \"Technology\", \"Finance\", \"Forestry\", \"Transport\"]\n",
    "index = [1,2,3,4,5,6,7,8]\n",
    "new_lst = list(zip(lst,index))\n",
    "print(new_lst)"
   ]
  },
  {
   "cell_type": "raw",
   "metadata": {},
   "source": [
    "Exercise 4: Write a function and create a list consisted of the number of occurence of letter: a (all a's)."
   ]
  },
  {
   "cell_type": "raw",
   "metadata": {},
   "source": [
    "lst1=[\"Antartica\", \"America\", \"Armania\", \"Australia\", \"Albania\", \"Afganistan\",\"Alaska\"]\n",
    "[3, 2, 3, 3, 3, 3, 3]"
   ]
  },
  {
   "cell_type": "code",
   "execution_count": 4,
   "metadata": {},
   "outputs": [
    {
     "name": "stdout",
     "output_type": "stream",
     "text": [
      "[3, 2, 3, 3, 3, 3, 3]\n"
     ]
    }
   ],
   "source": [
    "def counOfA(c):\n",
    "    count=0\n",
    "    for i in c:\n",
    "        if(i == 'a' or i == 'A'):\n",
    "            count+=1\n",
    "    return count\n",
    "\n",
    "\n",
    "lst1=[\"Antartica\", \"America\", \"Armania\", \"Australia\", \"Albania\", \"Afganistan\",\"Alaska\"]\n",
    "\n",
    "\n",
    "modLst = list(map(counOfA,lst1))\n",
    "print(modLst)"
   ]
  },
  {
   "cell_type": "raw",
   "metadata": {},
   "source": [
    "Exercise 5: Write a function filter all the vowels in a given string using filter."
   ]
  },
  {
   "cell_type": "raw",
   "metadata": {},
   "source": [
    "str1=\"Inceptz is one of the best institutes to read data science in chennai\"\n",
    "\n",
    "['I', 'e', 'i', 'o', 'e', 'o', 'e', 'e', 'i', 'i', 'u', 'e', 'o', 'e', 'a', 'a', 'a', 'i', 'e', 'e', 'i', 'e', 'a', 'i']"
   ]
  },
  {
   "cell_type": "code",
   "execution_count": 5,
   "metadata": {},
   "outputs": [
    {
     "name": "stdout",
     "output_type": "stream",
     "text": [
      "['I', 'e', 'i', 'o', 'e', 'o', 'e', 'e', 'i', 'i', 'u', 'e', 'o', 'e', 'a', 'a', 'a', 'i', 'e', 'e', 'i', 'e', 'a', 'i']\n"
     ]
    }
   ],
   "source": [
    "str1 = \"Inceptz is one of the best institutes to read data science in chennai\"\n",
    "vowel = ['a','e','i','o','u']\n",
    "\n",
    "def fnForVow(char):\n",
    "    return char.lower() in vowel\n",
    "\n",
    "res = list(filter(fnForVow,str1))\n",
    "print(res)"
   ]
  },
  {
   "cell_type": "raw",
   "metadata": {},
   "source": [
    "Exercise 6: Write a function to create a list as the square of elements from the given list if the square is greater than 60¶"
   ]
  },
  {
   "cell_type": "raw",
   "metadata": {},
   "source": [
    "lst1=[5, 6, 7 , 8, 9, 10, 12, 14]\n",
    "[64, 81, 100, 144, 196]"
   ]
  },
  {
   "cell_type": "code",
   "execution_count": 6,
   "metadata": {},
   "outputs": [
    {
     "name": "stdout",
     "output_type": "stream",
     "text": [
      "[64, 81, 100, 144, 196]\n"
     ]
    }
   ],
   "source": [
    "lst1 = [5, 6, 7 , 8, 9, 10, 12, 14]\n",
    "def getsqr(n):\n",
    "    return (n*n) >60\n",
    "    \n",
    "modlst = [k*k for k in lst1 if k*k >60]\n",
    "print(modlst)"
   ]
  },
  {
   "cell_type": "raw",
   "metadata": {},
   "source": [
    "Exercise 7: take the words given below as list and write a function and use reduce to make it a sentence\n"
   ]
  },
  {
   "cell_type": "raw",
   "metadata": {},
   "source": [
    "Inceptz\n",
    "provides\n",
    "the\n",
    "best\n",
    "inclass\n",
    "trainings\n",
    "and\n",
    "is\n",
    "the\n",
    "best\n",
    "\n",
    "'Inceptez provides the best inclass trainings and is the best'"
   ]
  },
  {
   "cell_type": "code",
   "execution_count": 7,
   "metadata": {},
   "outputs": [
    {
     "name": "stdout",
     "output_type": "stream",
     "text": [
      "Inceptez provides the best inclass trainings and is the best.\n"
     ]
    }
   ],
   "source": [
    "from functools import reduce\n",
    "\n",
    "def fnToStr(first,second):\n",
    "    return first + ' ' +second\n",
    "\n",
    "lst_str = ['Inceptez', 'provides', 'the', 'best', 'inclass','trainings','and','is','the','best.']\n",
    "\n",
    "mod_str = reduce(fnToStr,lst_str)\n",
    "print(mod_str)"
   ]
  }
 ],
 "metadata": {
  "kernelspec": {
   "display_name": "Python 3",
   "language": "python",
   "name": "python3"
  },
  "language_info": {
   "codemirror_mode": {
    "name": "ipython",
    "version": 3
   },
   "file_extension": ".py",
   "mimetype": "text/x-python",
   "name": "python",
   "nbconvert_exporter": "python",
   "pygments_lexer": "ipython3",
   "version": "3.7.6"
  }
 },
 "nbformat": 4,
 "nbformat_minor": 4
}
