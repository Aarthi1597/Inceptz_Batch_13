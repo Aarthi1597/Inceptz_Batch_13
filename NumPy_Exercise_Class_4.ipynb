{
 "cells": [
  {
   "cell_type": "markdown",
   "metadata": {},
   "source": [
    "Exercise 1: NumPy: Create an array with values ranging from 12 to 38"
   ]
  },
  {
   "cell_type": "markdown",
   "metadata": {},
   "source": [
    "    [12 13 14 15 16 17 18 19 20 21 22 23 24 25 26 27 28 29 30 31 32 33 34 35\n",
    " 36 37]"
   ]
  },
  {
   "cell_type": "code",
   "execution_count": 1,
   "metadata": {},
   "outputs": [
    {
     "name": "stdout",
     "output_type": "stream",
     "text": [
      "[12 13 14 15 16 17 18 19 20 21 22 23 24 25 26 27 28 29 30 31 32 33 34 35\n",
      " 36 37]\n"
     ]
    }
   ],
   "source": [
    "import numpy as np\n",
    "a=np.linspace(12,37,26,dtype='int')\n",
    "print(a)"
   ]
  },
  {
   "cell_type": "code",
   "execution_count": null,
   "metadata": {},
   "outputs": [],
   "source": [
    "Exercise 2: Add a border around an existing array"
   ]
  },
  {
   "cell_type": "markdown",
   "metadata": {},
   "source": [
    "Hint: np.pad()\n",
    "Original array:\n",
    "[[1. 1. 1.]\n",
    " [1. 1. 1.]\n",
    " [1. 1. 1.]]\n",
    "0 on the border and 1 inside in the array\n",
    "[[0. 0. 0. 0. 0.]\n",
    " [0. 1. 1. 1. 0.]\n",
    " [0. 1. 1. 1. 0.]\n",
    " [0. 1. 1. 1. 0.]\n",
    " [0. 0. 0. 0. 0.]]"
   ]
  },
  {
   "cell_type": "code",
   "execution_count": 2,
   "metadata": {},
   "outputs": [
    {
     "name": "stdout",
     "output_type": "stream",
     "text": [
      "Original array:\n",
      " [[1. 1. 1.]\n",
      " [1. 1. 1.]\n",
      " [1. 1. 1.]]\n",
      "0 on the border and 1 inside in the array\n",
      " [[0. 0. 0. 0. 0.]\n",
      " [0. 1. 1. 1. 0.]\n",
      " [0. 1. 1. 1. 0.]\n",
      " [0. 1. 1. 1. 0.]\n",
      " [0. 0. 0. 0. 0.]]\n"
     ]
    }
   ],
   "source": [
    "ar1 = np.ones((3,3))\n",
    "print(\"Original array:\\n\",ar1)\n",
    "ar2 = np.pad(ar1,pad_width=1,mode='constant')\n",
    "print(\"0 on the border and 1 inside in the array\\n\",ar2)"
   ]
  },
  {
   "cell_type": "markdown",
   "metadata": {},
   "source": [
    "Exercise 3: Convert a list and tuple into arrays"
   ]
  },
  {
   "cell_type": "markdown",
   "metadata": {},
   "source": [
    "List to array: \n",
    "[1 2 3 4 5 6 7 8]\n",
    "Tuple to array: \n",
    "[[8 4 6]\n",
    " [1 2 3]]\n",
    "Also try np.asarray for the problem above!"
   ]
  },
  {
   "cell_type": "code",
   "execution_count": 3,
   "metadata": {},
   "outputs": [
    {
     "name": "stdout",
     "output_type": "stream",
     "text": [
      "List to array:\n",
      " [1 2 3 4 5 6 7 8]\n",
      "\n",
      "\n",
      "Tuple to array:\n",
      " [[8 4 6]\n",
      " [1 2 3]]\n"
     ]
    }
   ],
   "source": [
    "lst = [1,2,3,4,5,6,7,8]\n",
    "ar1 = np.asarray(lst)\n",
    "print(\"List to array:\\n\",ar1)\n",
    "print(\"\\n\")\n",
    "tup = ([8,4,6],[1,2,3])\n",
    "ar = np.asarray(tup)\n",
    "print(\"Tuple to array:\\n\",ar)"
   ]
  },
  {
   "cell_type": "markdown",
   "metadata": {},
   "source": [
    "Exercise 4: Convert the values of Centigrade degrees into Fahrenheit degrees"
   ]
  },
  {
   "cell_type": "markdown",
   "metadata": {},
   "source": [
    "Values in Fahrenheit degrees:\n",
    "[ 0.   12.   45.21 34.   99.91]\n",
    "Values in  Centigrade degrees:\n",
    "[-17.77777778 -11.11111111   7.33888889   1.11111111  37.72777778]"
   ]
  },
  {
   "cell_type": "code",
   "execution_count": 5,
   "metadata": {},
   "outputs": [
    {
     "name": "stdout",
     "output_type": "stream",
     "text": [
      "Values in Fahrenheit degree:\n",
      " [ 0.   12.   45.21 34.   99.91]\n",
      "\n",
      "\n",
      "Values in Centrigrade degree:\n",
      " [-17.77777778 -11.11111111   7.33888889   1.11111111  37.72777778]\n"
     ]
    }
   ],
   "source": [
    "fdeg = np.array([0,12,45.21,34,99.91])\n",
    "print(\"Values in Fahrenheit degree:\\n\",fdeg)\n",
    "print(\"\\n\")\n",
    "cdeg = (fdeg - 32)*5/9\n",
    "print(\"Values in Centrigrade degree:\\n\",cdeg)"
   ]
  },
  {
   "cell_type": "markdown",
   "metadata": {},
   "source": [
    "Exercise 5: Write a NumPy program to find the number of elements of an array, \n",
    "length of one array element in bytes and total bytes consumed by the elements"
   ]
  },
  {
   "cell_type": "markdown",
   "metadata": {},
   "source": [
    "Size of the array:  3\n",
    "Length of one array element in bytes:  8\n",
    "Total bytes consumed by the elements of the array:  24"
   ]
  },
  {
   "cell_type": "code",
   "execution_count": 6,
   "metadata": {},
   "outputs": [
    {
     "name": "stdout",
     "output_type": "stream",
     "text": [
      "size of array: 3\n",
      "Lenth of one array element in bytes: 8\n",
      "Total bytes consumned by the elements: 24\n"
     ]
    }
   ],
   "source": [
    "a = np.array([1,2,3],dtype = np.float)\n",
    "print(\"size of array:\",a.size)\n",
    "print(\"Lenth of one array element in bytes:\", a.itemsize)\n",
    "print(\"Total bytes consumned by the elements:\",a.nbytes )"
   ]
  },
  {
   "cell_type": "markdown",
   "metadata": {},
   "source": [
    "Exercise 6: Get the unique elements of an array"
   ]
  },
  {
   "cell_type": "markdown",
   "metadata": {},
   "source": [
    "Original array:\n",
    "[10 10 20 20 30 30]\n",
    "Unique elements of the above array:\n",
    "[10 20 30]\n",
    "\n",
    "Original array:\n",
    "[[1 1]\n",
    " [2 3]]\n",
    "Unique elements of the above array:\n",
    "[1 2 3]"
   ]
  },
  {
   "cell_type": "code",
   "execution_count": 7,
   "metadata": {},
   "outputs": [
    {
     "name": "stdout",
     "output_type": "stream",
     "text": [
      "Oringinal array:\n",
      " [10 10 20 20 30 30]\n",
      "Unique elements of the above array:\n",
      " [10 20 30]\n",
      "\n",
      "\n",
      "\n",
      "\n",
      "Original array:\n",
      " [[1 1]\n",
      " [2 3]]\n",
      "Unique elements of the above array:\n",
      " [1 2 3]\n"
     ]
    }
   ],
   "source": [
    "arr1 = np.array([10,10,20,20,30,30])\n",
    "print(\"Oringinal array:\\n\",arr1)\n",
    "\n",
    "uniqa = np.unique(arr1)\n",
    "print(\"Unique elements of the above array:\\n\",uniqa)\n",
    "print(\"\\n\\n\\n\")\n",
    "arr2 = np.array([[1,1],[2,3]])\n",
    "print(\"Original array:\\n\",arr2)\n",
    "uniqa2 = np.unique(arr2)\n",
    "print(\"Unique elements of the above array:\\n\",uniqa2)"
   ]
  },
  {
   "cell_type": "markdown",
   "metadata": {},
   "source": [
    "Exercise 7: Change the dimension of an array"
   ]
  },
  {
   "cell_type": "markdown",
   "metadata": {},
   "source": [
    "Original array: [1 2 3 4 5 6 7 8 9]\n",
    "Change array shape to (3, 3) -> 3 rows and 3 columns \n",
    "[[1 2 3]\n",
    " [4 5 6]\n",
    " [7 8 9]]"
   ]
  },
  {
   "cell_type": "code",
   "execution_count": 8,
   "metadata": {},
   "outputs": [
    {
     "name": "stdout",
     "output_type": "stream",
     "text": [
      "Original Array:\n",
      "[1 2 3 4 5 6 7 8 9]\n",
      "\n",
      "\n",
      "Change array shape to (3, 3) -> 3 rows and 3 columns \n",
      " [[1 2 3]\n",
      " [4 5 6]\n",
      " [7 8 9]]\n"
     ]
    }
   ],
   "source": [
    "arr = np.array([1, 2, 3, 4, 5, 6, 7, 8, 9])\n",
    "print(\"Original Array:\")\n",
    "print(arr)\n",
    "print(\"\\n\")\n",
    "rarr = arr.reshape(3,3)\n",
    "print(\"Change array shape to (3, 3) -> 3 rows and 3 columns \\n\",rarr)"
   ]
  },
  {
   "cell_type": "markdown",
   "metadata": {},
   "source": [
    "Exercise 8: Create a 1-D array of 30 evenly spaced elements between 2.5. and 6.5, inclusive"
   ]
  },
  {
   "cell_type": "markdown",
   "metadata": {},
   "source": [
    "[2.5        2.63793103 2.77586207 2.9137931  3.05172414 3.18965517\n",
    " 3.32758621 3.46551724 3.60344828 3.74137931 3.87931034 4.01724138\n",
    " 4.15517241 4.29310345 4.43103448 4.56896552 4.70689655 4.84482759\n",
    " 4.98275862 5.12068966 5.25862069 5.39655172 5.53448276 5.67241379\n",
    " 5.81034483 5.94827586 6.0862069  6.22413793 6.36206897 6.5       ]"
   ]
  },
  {
   "cell_type": "code",
   "execution_count": 9,
   "metadata": {},
   "outputs": [
    {
     "name": "stdout",
     "output_type": "stream",
     "text": [
      "[2.5        2.63793103 2.77586207 2.9137931  3.05172414 3.18965517\n",
      " 3.32758621 3.46551724 3.60344828 3.74137931 3.87931034 4.01724138\n",
      " 4.15517241 4.29310345 4.43103448 4.56896552 4.70689655 4.84482759\n",
      " 4.98275862 5.12068966 5.25862069 5.39655172 5.53448276 5.67241379\n",
      " 5.81034483 5.94827586 6.0862069  6.22413793 6.36206897 6.5       ]\n"
     ]
    }
   ],
   "source": [
    "import numpy as np\n",
    "a = np.linspace(2.5,6.5,30)\n",
    "print(a)"
   ]
  },
  {
   "cell_type": "markdown",
   "metadata": {},
   "source": [
    "Exercise 9: Convert 1-D arrays as columns into a 2-D array"
   ]
  },
  {
   "cell_type": "markdown",
   "metadata": {},
   "source": [
    "Array1: [10 20 30]\n",
    "Array2: [40 50 60]\n",
    "Converted array\n",
    "[[10 40]\n",
    " [20 50]\n",
    " [30 60]]"
   ]
  },
  {
   "cell_type": "code",
   "execution_count": 10,
   "metadata": {},
   "outputs": [
    {
     "name": "stdout",
     "output_type": "stream",
     "text": [
      "Array 1:\n",
      " [10 20 30]\n",
      "Array 2:\n",
      " [40 50 60]\n",
      "\n",
      "\n",
      "Converted array\n",
      " [[10 40]\n",
      " [20 50]\n",
      " [30 60]]\n"
     ]
    }
   ],
   "source": [
    "a=np.array([10,20,30])\n",
    "b=np.array([40,50,60])\n",
    "print(\"Array 1:\\n\",a)\n",
    "print(\"Array 2:\\n\",b)\n",
    "print(\"\\n\")\n",
    "conv = np.column_stack(([10,20,30],[40,50,60]))\n",
    "print(\"Converted array\\n\",conv)"
   ]
  },
  {
   "cell_type": "markdown",
   "metadata": {},
   "source": [
    "Exercise 10: Create a 5x5 matrix with row values ranging from 0 to 4"
   ]
  },
  {
   "cell_type": "markdown",
   "metadata": {},
   "source": [
    "Original array:\n",
    "[[0. 0. 0. 0. 0.]\n",
    " [0. 0. 0. 0. 0.]\n",
    " [0. 0. 0. 0. 0.]\n",
    " [0. 0. 0. 0. 0.]\n",
    " [0. 0. 0. 0. 0.]]\n",
    "Row values ranging from 0 to 4.\n",
    "[[0. 1. 2. 3. 4.]\n",
    " [0. 1. 2. 3. 4.]\n",
    " [0. 1. 2. 3. 4.]\n",
    " [0. 1. 2. 3. 4.]\n",
    " [0. 1. 2. 3. 4.]]"
   ]
  },
  {
   "cell_type": "code",
   "execution_count": 11,
   "metadata": {},
   "outputs": [
    {
     "name": "stdout",
     "output_type": "stream",
     "text": [
      "Original array:\n",
      " [[0 0 0 0 0]\n",
      " [0 0 0 0 0]\n",
      " [0 0 0 0 0]\n",
      " [0 0 0 0 0]\n",
      " [0 0 0 0 0]]\n",
      "\n",
      "\n",
      "\n",
      "\n",
      "Row values ranging from 0 to 4:\n",
      " [[0 1 2 3 4]\n",
      " [0 1 2 3 4]\n",
      " [0 1 2 3 4]\n",
      " [0 1 2 3 4]\n",
      " [0 1 2 3 4]]\n"
     ]
    }
   ],
   "source": [
    "zr = np.zeros([5,5],dtype = int)\n",
    "print(\"Original array:\\n\",zr)\n",
    "print(\"\\n\")\n",
    "row=5\n",
    "col=5\n",
    "for i in range(row):\n",
    "    for j in range(col):\n",
    "        if (i<5):\n",
    "            zr[i,j]=j\n",
    "print(\"\\n\")    \n",
    "print(\"Row values ranging from 0 to 4:\\n\",zr)"
   ]
  },
  {
   "cell_type": "markdown",
   "metadata": {},
   "source": [
    "Exercise 11: Sum of all the multiples of 3 or 5 below 100"
   ]
  },
  {
   "cell_type": "markdown",
   "metadata": {},
   "source": [
    "[ 3  5  6  9 10 12 15 18 20 21 24 25 27 30 33 35 36 39 40 42 45 48 50 51\n",
    " 54 55 57 60 63 65 66 69 70 72 75 78 80 81 84 85 87 90 93 95 96 99]\n",
    "2318"
   ]
  },
  {
   "cell_type": "code",
   "execution_count": 12,
   "metadata": {},
   "outputs": [
    {
     "name": "stdout",
     "output_type": "stream",
     "text": [
      "The test numbers:\n",
      " [ 1  2  3  4  5  6  7  8  9 10 11 12 13 14 15 16 17 18 19 20 21 22 23 24\n",
      " 25 26 27 28 29 30 31 32 33 34 35 36 37 38 39 40 41 42 43 44 45 46 47 48\n",
      " 49 50 51 52 53 54 55 56 57 58 59 60 61 62 63 64 65 66 67 68 69 70 71 72\n",
      " 73 74 75 76 77 78 79 80 81 82 83 84 85 86 87 88 89 90 91 92 93 94 95 96\n",
      " 97 98 99]\n",
      "\n",
      "\n",
      "The sum of numbers in array that are multiples of 3 or 5 is: 2318\n"
     ]
    }
   ],
   "source": [
    "import pandas as pd\n",
    "import numpy\n",
    "sum = 0\n",
    "a = numpy.arange(1,100)\n",
    "print(\"The test numbers:\\n\",a)        \n",
    "print(\"\\n\")\n",
    "for i in range(1,100,1):\n",
    "    if(i%3 == 0):\n",
    "        sum+=i\n",
    "    elif(i%5 == 0):\n",
    "        sum+=i\n",
    "        \n",
    "print(\"The sum of numbers in array that are multiples of 3 or 5 is:\",sum)"
   ]
  },
  {
   "cell_type": "markdown",
   "metadata": {},
   "source": [
    "Exercise 12: Combine a one and a two dimensional array together and display their elements."
   ]
  },
  {
   "cell_type": "markdown",
   "metadata": {},
   "source": [
    "Hint : np.nditer()\n",
    "\n",
    "x = np.arange(4)\n",
    "y = np.arange(4)\n",
    "for a, b in np.nditer([x,y]):\n",
    "    print(a)\n",
    "    print(b)"
   ]
  },
  {
   "cell_type": "markdown",
   "metadata": {},
   "source": [
    "0\n",
    "0\n",
    "1\n",
    "1\n",
    "2\n",
    "2\n",
    "3\n",
    "3"
   ]
  },
  {
   "cell_type": "markdown",
   "metadata": {},
   "source": [
    "One dimensional array:\n",
    "[0 1 2 3]\n",
    "Two dimensional array:\n",
    "[[0 1 2 3]\n",
    " [4 5 6 7]]\n",
    "0:0\n",
    "1:1\n",
    "2:2\n",
    "3:3\n",
    "0:4\n",
    "1:5\n",
    "2:6\n",
    "3:7"
   ]
  },
  {
   "cell_type": "code",
   "execution_count": 13,
   "metadata": {},
   "outputs": [
    {
     "name": "stdout",
     "output_type": "stream",
     "text": [
      "One dimentional array:\n",
      " [0 1 2 3]\n",
      "Two dimentional array:\n",
      " [[0 1 2 3]\n",
      " [4 5 6 7]]\n",
      "\n",
      "\n",
      "0:0\n",
      "1:1\n",
      "2:2\n",
      "3:3\n",
      "0:4\n",
      "1:5\n",
      "2:6\n",
      "3:7\n"
     ]
    }
   ],
   "source": [
    "a1 = np.arange(4)\n",
    "print(\"One dimentional array:\\n\",a1)\n",
    "a2 = np.arange(8).reshape(2,4)\n",
    "print(\"Two dimentional array:\\n\",a2)\n",
    "print(\"\\n\")\n",
    "for i,j in np.nditer([a1,a2]):\n",
    "    print(\"%d:%d\"%(i,j),)"
   ]
  },
  {
   "cell_type": "markdown",
   "metadata": {},
   "source": [
    "Exercise 13: Write a NumPy program to replace all elements of NumPy array that are greater than specified array."
   ]
  },
  {
   "cell_type": "markdown",
   "metadata": {},
   "source": [
    "Original array:\n",
    "[[0.42436315 0.48558583 0.32924763]\n",
    " [0.7439979  0.58220701 0.38213418]\n",
    " [0.5097581  0.34528799 0.1563123 ]]\n",
    "Replace all elements of the said array with .5 which are greater than .5\n",
    "[[0.42436315 0.48558583 0.32924763]\n",
    " [0.5        0.5        0.38213418]\n",
    " [0.5        0.34528799 0.1563123 ]]"
   ]
  },
  {
   "cell_type": "code",
   "execution_count": 14,
   "metadata": {},
   "outputs": [
    {
     "name": "stdout",
     "output_type": "stream",
     "text": [
      "Original array:\n",
      " [[[0.42436315 0.48558583 0.32924763]\n",
      "  [0.7439979  0.58220701 0.38213418]\n",
      "  [0.5097581  0.34528799 0.1563123 ]]]\n",
      "\n",
      "\n",
      "Replace all elements of the said array with 0.5 which are greater than 0.5\n",
      " [[[0.42436315 0.48558583 0.32924763]\n",
      "  [0.5        0.5        0.38213418]\n",
      "  [0.5        0.34528799 0.1563123 ]]]\n"
     ]
    }
   ],
   "source": [
    "ary = np.array([[[0.42436315,0.48558583,0.32924763],[0.7439979,0.58220701,0.38213418], [0.5097581,0.34528799,0.1563123 ]]])\n",
    "print(\"Original array:\\n\",ary)\n",
    "ary[ary>.5] = .5\n",
    "print(\"\\n\")\n",
    "print(\"Replace all elements of the said array with 0.5 which are greater than 0.5\\n\",ary)"
   ]
  },
  {
   "cell_type": "markdown",
   "metadata": {},
   "source": [
    "Exercise 14: Add a new row to an empty numpy array"
   ]
  },
  {
   "cell_type": "markdown",
   "metadata": {},
   "source": [
    "Empty array:\n",
    "[]\n",
    "After adding two new arrays:\n",
    "[[10 20 30]\n",
    " [40 50 60]]"
   ]
  },
  {
   "cell_type": "code",
   "execution_count": 15,
   "metadata": {},
   "outputs": [
    {
     "name": "stdout",
     "output_type": "stream",
     "text": [
      "Empty array:\n",
      " []\n",
      "After adding two new arrays:\n",
      " [[10 20 30]\n",
      " [40 50 60]]\n"
     ]
    }
   ],
   "source": [
    "ar1 = np.empty((0,3),int)\n",
    "print(\"Empty array:\\n\",ar1)\n",
    "ar1 = np.append(ar1,np.array([[10,20,30]]),axis=0)\n",
    "ar1 = np.append(ar1,np.array([[40,50,60]]),axis=0)\n",
    "print(\"After adding two new arrays:\\n\",ar1)"
   ]
  },
  {
   "cell_type": "markdown",
   "metadata": {},
   "source": [
    "Exercise 15: Write a NumPy program to join a sequence of arrays along a new axis."
   ]
  },
  {
   "cell_type": "markdown",
   "metadata": {},
   "source": [
    "Original arrays:\n",
    "[1 2 3]\n",
    "[2 3 4]\n",
    "Sequence of arrays along a new axis:\n",
    "[[1 2 3]\n",
    " [2 3 4]]\n",
    "\n",
    "Original arrays:\n",
    "[[1]\n",
    " [2]\n",
    " [3]]\n",
    "\n",
    "[[2]\n",
    " [3]\n",
    " [4]]\n",
    "Sequence of arrays along a new axis:\n",
    "[[1]\n",
    " [2]\n",
    " [3]\n",
    " [2]\n",
    " [3]\n",
    " [4]]"
   ]
  },
  {
   "cell_type": "code",
   "execution_count": 16,
   "metadata": {},
   "outputs": [
    {
     "name": "stdout",
     "output_type": "stream",
     "text": [
      "Original arrays:\n",
      " [1 2 3] \n",
      " [2 3 4]\n",
      "Sequence of arrays along a new axis:\n",
      " [[1 2 3]\n",
      " [2 3 4]]\n",
      "\n",
      "\n",
      "\n",
      "\n",
      "Original arrays:\n",
      " [[1]\n",
      " [2]\n",
      " [3]] \n",
      "\n",
      " [[2]\n",
      " [3]\n",
      " [4]]\n",
      "Sequence of arrays along a new axis:\n",
      " [[1]\n",
      " [2]\n",
      " [3]\n",
      " [2]\n",
      " [3]\n",
      " [4]]\n"
     ]
    }
   ],
   "source": [
    "ar1 = np.array([1,2,3])\n",
    "ar2 = np.array([2,3,4])\n",
    "print(\"Original arrays:\\n\",ar1,\"\\n\",ar2)\n",
    "a = np.vstack((ar1,ar2))\n",
    "print(\"Sequence of arrays along a new axis:\\n\",a)\n",
    "print(\"\\n\\n\\n\")\n",
    "ara1 = np.array([[1],[2],[3]])\n",
    "ara2 = np.array([[2],[3],[4]])\n",
    "print(\"Original arrays:\\n\",ara1,\"\\n\\n\",ara2)\n",
    "new = np.vstack((ara1,ara2))\n",
    "print(\"Sequence of arrays along a new axis:\\n\",new)"
   ]
  }
 ],
 "metadata": {
  "kernelspec": {
   "display_name": "Python 3",
   "language": "python",
   "name": "python3"
  },
  "language_info": {
   "codemirror_mode": {
    "name": "ipython",
    "version": 3
   },
   "file_extension": ".py",
   "mimetype": "text/x-python",
   "name": "python",
   "nbconvert_exporter": "python",
   "pygments_lexer": "ipython3",
   "version": "3.7.6"
  }
 },
 "nbformat": 4,
 "nbformat_minor": 4
}
